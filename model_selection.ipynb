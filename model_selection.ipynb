{
 "cells": [
  {
   "cell_type": "code",
   "execution_count": 1,
   "metadata": {},
   "outputs": [],
   "source": [
    "import pandas as pd\n",
    "import numpy as np\n",
    "import math\n",
    "import matplotlib.pyplot as plt\n",
    "\n",
    "train = pd.read_csv ('train.csv')\n",
    "test = pd.read_csv ('test.csv')\n",
    "\n",
    "train.columns = map (str.lower, train.columns)\n",
    "test.columns = map (str.lower, test.columns)\n",
    "def group_ages(df, cut_points, label_names):\n",
    "    df['age'] = df['age'].fillna(-0.5)\n",
    "    df['age_cat'] = pd.cut (df['age'], cut_points, labels=label_names)\n",
    "    return df\n",
    "\n",
    "def create_dummies (df, column_name):\n",
    "    dummies = pd.get_dummies (df[column_name], prefix=column_name)\n",
    "    df = pd.concat ([df, dummies], axis=1)\n",
    "    return df\n",
    "\n",
    "cut_points = [-1, 0, 5, 12, 18, 35, 60, 100]\n",
    "age_group_labels = ['missing', 'infant', 'child', 'teenager', \n",
    "    'young_adult', 'adult', 'senior']\n",
    "train = group_ages (train, cut_points, age_group_labels)\n",
    "test = group_ages (test, cut_points, age_group_labels)\n",
    "\n",
    "predictive_labels = ['pclass', 'sex', 'age_cat']\n",
    "for label in predictive_labels:\n",
    "    train = create_dummies (train, label)\n",
    "    test = create_dummies (test, label)\n",
    "\n",
    "# Additional work from the feature prep step\n",
    "train['embarked'] = train['embarked'].fillna('S')\n",
    "test['embarked'] = test['embarked'].fillna('S')\n",
    "train = create_dummies (train, 'embarked')\n",
    "test = create_dummies (test, 'embarked')\n",
    "\n",
    "# Make sure the new columns all conform to lower case\n",
    "train.columns = map (str.lower, train.columns)\n",
    "test.columns = map (str.lower, test.columns)\n",
    "\n",
    "# convert these columns to be on the same scale\n",
    "from sklearn.preprocessing import minmax_scale\n",
    "columns = [\"sibsp\", \"parch\"]\n",
    "for col in columns:\n",
    "    train[col + '_scaled'] = minmax_scale(train[col])\n",
    "    test[col + '_scaled'] = minmax_scale(test[col])\n",
    "\n",
    "def group_fares(df, cut_points, label_names):\n",
    "    df['fare'] = df['fare'].fillna(-0.5)\n",
    "    df['fare_cat'] = pd.cut (df['fare'], cut_points, labels=label_names)\n",
    "    return df\n",
    "\n",
    "fare_group_labels = ['missing', '0-12', '12-50', '50-100', '100+']\n",
    "cut_points = [-1, 0, 12, 50, 100, 1000]\n",
    "\n",
    "train = group_fares (train, cut_points, fare_group_labels)\n",
    "test = group_fares (test, cut_points, fare_group_labels) \n",
    "train = create_dummies (train, ['fare_cat'])\n",
    "test = create_dummies (test, ['fare_cat'])\n",
    "\n",
    "# Make sure the new columns all conform to lower case\n",
    "train.columns = map (str.lower, train.columns)\n",
    "test.columns = map (str.lower, test.columns)\n",
    "\n",
    "# extract info from title\n",
    "titles = {\n",
    "    \"Mr\" :         \"Mr\",\n",
    "    \"Mme\":         \"Mrs\",\n",
    "    \"Ms\":          \"Mrs\",\n",
    "    \"Mrs\" :        \"Mrs\",\n",
    "    \"Master\" :     \"Master\",\n",
    "    \"Mlle\":        \"Miss\",\n",
    "    \"Miss\" :       \"Miss\",\n",
    "    \"Capt\":        \"Officer\",\n",
    "    \"Col\":         \"Officer\",\n",
    "    \"Major\":       \"Officer\",\n",
    "    \"Dr\":          \"Officer\",\n",
    "    \"Rev\":         \"Officer\",\n",
    "    \"Jonkheer\":    \"Royalty\",\n",
    "    \"Don\":         \"Royalty\",\n",
    "    \"Sir\" :        \"Royalty\",\n",
    "    \"Countess\":    \"Royalty\",\n",
    "    \"Dona\":        \"Royalty\",\n",
    "    \"Lady\" :       \"Royalty\"\n",
    "}\n",
    "\n",
    "extracted_titles = train[\"name\"].str.extract(' ([A-Za-z]+)\\.',expand=False)\n",
    "train[\"title\"] = extracted_titles.map(titles)\n",
    "extracted_titles = test[\"name\"].str.extract(' ([A-Za-z]+)\\.',expand=False)\n",
    "test[\"title\"] = extracted_titles.map(titles)\n",
    "\n",
    "train[\"cabin_type\"] = train[\"cabin\"].str[0]\n",
    "train[\"cabin_type\"] = train[\"cabin_type\"].fillna(\"Unknown\")\n",
    "\n",
    "test[\"cabin_type\"] = test[\"cabin\"].str[0]\n",
    "test[\"cabin_type\"] = test[\"cabin_type\"].fillna(\"Unknown\")\n",
    "\n",
    "for column in [\"title\",\"cabin_type\"]:\n",
    "    train = create_dummies(train,column)\n",
    "    test = create_dummies(test,column)\n",
    "\n",
    "# Make sure the new columns all conform to lower case\n",
    "train.columns = map (str.lower, train.columns)\n",
    "test.columns = map (str.lower, test.columns)\n",
    "\n",
    "exclude = ['passengerid', 'survived', 'pclass', 'name', 'sex', 'age', 'sibsp', 'parch', 'ticket', 'fare', 'cabin', 'embarked', 'age_cat', 'fare_cat', 'title', 'cabin_type', 'cabin_type_unknown']\n",
    "columns = list(train.drop(columns=exclude).columns)\n",
    "\n",
    "# Lets figure out which features are the most useful by running a regression \n",
    "# model and looking at the coefficients.abs\n",
    "from sklearn.linear_model import LogisticRegression\n",
    "\n",
    "lr = LogisticRegression()\n",
    "lr.fit (train[columns], train['survived'])\n",
    "feature_importance = pd.Series (lr.coef_[0], index=columns)\n",
    "ordered_feature_importance = feature_importance.abs().sort_values()\n",
    "\n",
    "columns = list(ordered_feature_importance.sort_values (ascending=False).index)[:27]\n",
    "target = ['survived']\n",
    "\n",
    "# remove a few columns\n",
    "exclude = ['passengerid', 'survived', 'pclass', 'name', 'sex', 'age', 'sibsp', 'parch', 'ticket', 'fare', 'cabin', 'embarked', 'age_cat', 'fare_cat', 'title', 'cabin_type', 'cabin_type_unknown', 'sex_male', 'sex_female', 'pclass_2', 'age_cat_teenager', 'fare_cat_12-50','title_master', 'cabin_type_a', 'cabin_type_t']\n",
    "columns = list(train.drop(columns=exclude).columns)\n",
    "\n",
    "# Done with massaging data. Now split train into train & test\n",
    "np.random.seed(1)\n",
    "train = train.reindex(np.random.permutation(train.index))"
   ]
  },
  {
   "cell_type": "code",
   "execution_count": 2,
   "metadata": {
    "tags": []
   },
   "outputs": [
    {
     "output_type": "stream",
     "name": "stdout",
     "text": "0.8148689138576778\n"
    }
   ],
   "source": [
    "\"\"\"\n",
    "Logistic Regression\n",
    "\"\"\"\n",
    "from sklearn.linear_model import LogisticRegression\n",
    "from sklearn.model_selection import cross_val_score\n",
    "lr = LogisticRegression()\n",
    "scores = cross_val_score (lr, train[columns], train['survived'], cv=10)\n",
    "accuracy = scores.mean()\n",
    "print (accuracy)"
   ]
  },
  {
   "cell_type": "code",
   "execution_count": 3,
   "metadata": {
    "tags": []
   },
   "outputs": [
    {
     "output_type": "stream",
     "name": "stdout",
     "text": "0.8159675405742822\n"
    }
   ],
   "source": [
    "\"\"\"\n",
    "K-Nearest Neighbors\n",
    "\"\"\"\n",
    "from sklearn.neighbors import KNeighborsClassifier\n",
    "knn = KNeighborsClassifier (n_neighbors = 5)\n",
    "scores = cross_val_score (knn, train[columns], train['survived'], cv=10)\n",
    "accuracy = scores.mean()\n",
    "print (accuracy)"
   ]
  },
  {
   "cell_type": "code",
   "execution_count": 5,
   "metadata": {},
   "outputs": [
    {
     "output_type": "display_data",
     "data": {
      "text/plain": "<Figure size 720x432 with 1 Axes>",
      "image/svg+xml": "<?xml version=\"1.0\" encoding=\"utf-8\" standalone=\"no\"?>\n<!DOCTYPE svg PUBLIC \"-//W3C//DTD SVG 1.1//EN\"\n  \"http://www.w3.org/Graphics/SVG/1.1/DTD/svg11.dtd\">\n<!-- Created with matplotlib (https://matplotlib.org/) -->\n<svg height=\"361.037344pt\" version=\"1.1\" viewBox=\"0 0 601.665625 361.037344\" width=\"601.665625pt\" xmlns=\"http://www.w3.org/2000/svg\" xmlns:xlink=\"http://www.w3.org/1999/xlink\">\n <defs>\n  <style type=\"text/css\">\n*{stroke-linecap:butt;stroke-linejoin:round;}\n  </style>\n </defs>\n <g id=\"figure_1\">\n  <g id=\"patch_1\">\n   <path d=\"M 0 361.037344 \nL 601.665625 361.037344 \nL 601.665625 0 \nL 0 0 \nz\n\" style=\"fill:none;\"/>\n  </g>\n  <g id=\"axes_1\">\n   <g id=\"patch_2\">\n    <path d=\"M 36.465625 337.159219 \nL 594.465625 337.159219 \nL 594.465625 10.999219 \nL 36.465625 10.999219 \nz\n\" style=\"fill:#ffffff;\"/>\n   </g>\n   <g id=\"patch_3\">\n    <path clip-path=\"url(#p8fc6677094)\" d=\"M 42.045625 5425.255219 \nL 53.205625 5425.255219 \nL 53.205625 387.569466 \nL 42.045625 387.569466 \nz\n\" style=\"fill:#ff0000;\"/>\n   </g>\n   <g id=\"patch_4\">\n    <path clip-path=\"url(#p8fc6677094)\" d=\"M 64.365625 5425.255219 \nL 75.525625 5425.255219 \nL 75.525625 205.229331 \nL 64.365625 205.229331 \nz\n\" style=\"fill:#008000;\"/>\n   </g>\n   <g id=\"patch_5\">\n    <path clip-path=\"url(#p8fc6677094)\" d=\"M 86.685625 5425.255219 \nL 97.845625 5425.255219 \nL 97.845625 102.535758 \nL 86.685625 102.535758 \nz\n\" style=\"fill:#0000ff;\"/>\n   </g>\n   <g id=\"patch_6\">\n    <path clip-path=\"url(#p8fc6677094)\" d=\"M 109.005625 5425.255219 \nL 120.165625 5425.255219 \nL 120.165625 138.938634 \nL 109.005625 138.938634 \nz\n\"/>\n   </g>\n   <g id=\"patch_7\">\n    <path clip-path=\"url(#p8fc6677094)\" d=\"M 131.325625 5425.255219 \nL 142.485625 5425.255219 \nL 142.485625 175.585825 \nL 131.325625 175.585825 \nz\n\" style=\"fill:#bfbf00;\"/>\n   </g>\n   <g id=\"patch_8\">\n    <path clip-path=\"url(#p8fc6677094)\" d=\"M 153.645625 5425.255219 \nL 164.805625 5425.255219 \nL 164.805625 175.585825 \nL 153.645625 175.585825 \nz\n\" style=\"fill:#bf00bf;\"/>\n   </g>\n   <g id=\"patch_9\">\n    <path clip-path=\"url(#p8fc6677094)\" d=\"M 175.965625 5425.255219 \nL 187.125625 5425.255219 \nL 187.125625 124.19832 \nL 175.965625 124.19832 \nz\n\" style=\"fill:#00bfbf;\"/>\n   </g>\n   <g id=\"patch_10\">\n    <path clip-path=\"url(#p8fc6677094)\" d=\"M 198.285625 5425.255219 \nL 209.445625 5425.255219 \nL 209.445625 190.244702 \nL 198.285625 190.244702 \nz\n\" style=\"fill:#ff0000;\"/>\n   </g>\n   <g id=\"patch_11\">\n    <path clip-path=\"url(#p8fc6677094)\" d=\"M 220.605625 5425.255219 \nL 231.765625 5425.255219 \nL 231.765625 197.492702 \nL 220.605625 197.492702 \nz\n\" style=\"fill:#008000;\"/>\n   </g>\n   <g id=\"patch_12\">\n    <path clip-path=\"url(#p8fc6677094)\" d=\"M 242.925625 5425.255219 \nL 254.085625 5425.255219 \nL 254.085625 190.081825 \nL 242.925625 190.081825 \nz\n\" style=\"fill:#0000ff;\"/>\n   </g>\n   <g id=\"patch_13\">\n    <path clip-path=\"url(#p8fc6677094)\" d=\"M 265.245625 5425.255219 \nL 276.405625 5425.255219 \nL 276.405625 153.678949 \nL 265.245625 153.678949 \nz\n\"/>\n   </g>\n   <g id=\"patch_14\">\n    <path clip-path=\"url(#p8fc6677094)\" d=\"M 287.565625 5425.255219 \nL 298.725625 5425.255219 \nL 298.725625 182.915264 \nL 287.565625 182.915264 \nz\n\" style=\"fill:#bfbf00;\"/>\n   </g>\n   <g id=\"patch_15\">\n    <path clip-path=\"url(#p8fc6677094)\" d=\"M 309.885625 5425.255219 \nL 321.045625 5425.255219 \nL 321.045625 109.70232 \nL 309.885625 109.70232 \nz\n\" style=\"fill:#bf00bf;\"/>\n   </g>\n   <g id=\"patch_16\">\n    <path clip-path=\"url(#p8fc6677094)\" d=\"M 332.205625 5425.255219 \nL 343.365625 5425.255219 \nL 343.365625 80.303129 \nL 332.205625 80.303129 \nz\n\" style=\"fill:#00bfbf;\"/>\n   </g>\n   <g id=\"patch_17\">\n    <path clip-path=\"url(#p8fc6677094)\" d=\"M 354.525625 5425.255219 \nL 365.685625 5425.255219 \nL 365.685625 87.632567 \nL 354.525625 87.632567 \nz\n\" style=\"fill:#ff0000;\"/>\n   </g>\n   <g id=\"patch_18\">\n    <path clip-path=\"url(#p8fc6677094)\" d=\"M 376.845625 5425.255219 \nL 388.005625 5425.255219 \nL 388.005625 58.396252 \nL 376.845625 58.396252 \nz\n\" style=\"fill:#008000;\"/>\n   </g>\n   <g id=\"patch_19\">\n    <path clip-path=\"url(#p8fc6677094)\" d=\"M 399.165625 5425.255219 \nL 410.325625 5425.255219 \nL 410.325625 65.807129 \nL 399.165625 65.807129 \nz\n\" style=\"fill:#0000ff;\"/>\n   </g>\n   <g id=\"patch_20\">\n    <path clip-path=\"url(#p8fc6677094)\" d=\"M 421.485625 5425.255219 \nL 432.645625 5425.255219 \nL 432.645625 124.279758 \nL 421.485625 124.279758 \nz\n\"/>\n   </g>\n   <g id=\"patch_21\">\n    <path clip-path=\"url(#p8fc6677094)\" d=\"M 443.805625 5425.255219 \nL 454.965625 5425.255219 \nL 454.965625 139.020073 \nL 443.805625 139.020073 \nz\n\" style=\"fill:#bfbf00;\"/>\n   </g>\n   <g id=\"patch_22\">\n    <path clip-path=\"url(#p8fc6677094)\" d=\"M 466.125625 5425.255219 \nL 477.285625 5425.255219 \nL 477.285625 168.337825 \nL 466.125625 168.337825 \nz\n\" style=\"fill:#bf00bf;\"/>\n   </g>\n   <g id=\"patch_23\">\n    <path clip-path=\"url(#p8fc6677094)\" d=\"M 488.445625 5425.255219 \nL 499.605625 5425.255219 \nL 499.605625 175.585825 \nL 488.445625 175.585825 \nz\n\" style=\"fill:#00bfbf;\"/>\n   </g>\n   <g id=\"patch_24\">\n    <path clip-path=\"url(#p8fc6677094)\" d=\"M 510.765625 5425.255219 \nL 521.925625 5425.255219 \nL 521.925625 197.737017 \nL 510.765625 197.737017 \nz\n\" style=\"fill:#ff0000;\"/>\n   </g>\n   <g id=\"patch_25\">\n    <path clip-path=\"url(#p8fc6677094)\" d=\"M 533.085625 5425.255219 \nL 544.245625 5425.255219 \nL 544.245625 212.477331 \nL 533.085625 212.477331 \nz\n\" style=\"fill:#008000;\"/>\n   </g>\n   <g id=\"patch_26\">\n    <path clip-path=\"url(#p8fc6677094)\" d=\"M 555.405625 5425.255219 \nL 566.565625 5425.255219 \nL 566.565625 234.302769 \nL 555.405625 234.302769 \nz\n\" style=\"fill:#0000ff;\"/>\n   </g>\n   <g id=\"patch_27\">\n    <path clip-path=\"url(#p8fc6677094)\" d=\"M 577.725625 5425.255219 \nL 588.885625 5425.255219 \nL 588.885625 256.372522 \nL 577.725625 256.372522 \nz\n\"/>\n   </g>\n   <g id=\"matplotlib.axis_1\">\n    <g id=\"xtick_1\">\n     <g id=\"line2d_1\">\n      <defs>\n       <path d=\"M 0 0 \nL 0 3.5 \n\" id=\"m950002e65e\" style=\"stroke:#000000;stroke-width:0.8;\"/>\n      </defs>\n      <g>\n       <use style=\"stroke:#000000;stroke-width:0.8;\" x=\"47.625625\" xlink:href=\"#m950002e65e\" y=\"337.159219\"/>\n      </g>\n     </g>\n     <g id=\"text_1\">\n      <!-- 1 -->\n      <defs>\n       <path d=\"M 12.40625 8.296875 \nL 28.515625 8.296875 \nL 28.515625 63.921875 \nL 10.984375 60.40625 \nL 10.984375 69.390625 \nL 28.421875 72.90625 \nL 38.28125 72.90625 \nL 38.28125 8.296875 \nL 54.390625 8.296875 \nL 54.390625 0 \nL 12.40625 0 \nz\n\" id=\"DejaVuSans-49\"/>\n      </defs>\n      <g transform=\"translate(44.444375 351.757656)scale(0.1 -0.1)\">\n       <use xlink:href=\"#DejaVuSans-49\"/>\n      </g>\n     </g>\n    </g>\n    <g id=\"xtick_2\">\n     <g id=\"line2d_2\">\n      <g>\n       <use style=\"stroke:#000000;stroke-width:0.8;\" x=\"69.945625\" xlink:href=\"#m950002e65e\" y=\"337.159219\"/>\n      </g>\n     </g>\n     <g id=\"text_2\">\n      <!-- 3 -->\n      <defs>\n       <path d=\"M 40.578125 39.3125 \nQ 47.65625 37.796875 51.625 33 \nQ 55.609375 28.21875 55.609375 21.1875 \nQ 55.609375 10.40625 48.1875 4.484375 \nQ 40.765625 -1.421875 27.09375 -1.421875 \nQ 22.515625 -1.421875 17.65625 -0.515625 \nQ 12.796875 0.390625 7.625 2.203125 \nL 7.625 11.71875 \nQ 11.71875 9.328125 16.59375 8.109375 \nQ 21.484375 6.890625 26.8125 6.890625 \nQ 36.078125 6.890625 40.9375 10.546875 \nQ 45.796875 14.203125 45.796875 21.1875 \nQ 45.796875 27.640625 41.28125 31.265625 \nQ 36.765625 34.90625 28.71875 34.90625 \nL 20.21875 34.90625 \nL 20.21875 43.015625 \nL 29.109375 43.015625 \nQ 36.375 43.015625 40.234375 45.921875 \nQ 44.09375 48.828125 44.09375 54.296875 \nQ 44.09375 59.90625 40.109375 62.90625 \nQ 36.140625 65.921875 28.71875 65.921875 \nQ 24.65625 65.921875 20.015625 65.03125 \nQ 15.375 64.15625 9.8125 62.3125 \nL 9.8125 71.09375 \nQ 15.4375 72.65625 20.34375 73.4375 \nQ 25.25 74.21875 29.59375 74.21875 \nQ 40.828125 74.21875 47.359375 69.109375 \nQ 53.90625 64.015625 53.90625 55.328125 \nQ 53.90625 49.265625 50.4375 45.09375 \nQ 46.96875 40.921875 40.578125 39.3125 \nz\n\" id=\"DejaVuSans-51\"/>\n      </defs>\n      <g transform=\"translate(66.764375 351.757656)scale(0.1 -0.1)\">\n       <use xlink:href=\"#DejaVuSans-51\"/>\n      </g>\n     </g>\n    </g>\n    <g id=\"xtick_3\">\n     <g id=\"line2d_3\">\n      <g>\n       <use style=\"stroke:#000000;stroke-width:0.8;\" x=\"92.265625\" xlink:href=\"#m950002e65e\" y=\"337.159219\"/>\n      </g>\n     </g>\n     <g id=\"text_3\">\n      <!-- 5 -->\n      <defs>\n       <path d=\"M 10.796875 72.90625 \nL 49.515625 72.90625 \nL 49.515625 64.59375 \nL 19.828125 64.59375 \nL 19.828125 46.734375 \nQ 21.96875 47.46875 24.109375 47.828125 \nQ 26.265625 48.1875 28.421875 48.1875 \nQ 40.625 48.1875 47.75 41.5 \nQ 54.890625 34.8125 54.890625 23.390625 \nQ 54.890625 11.625 47.5625 5.09375 \nQ 40.234375 -1.421875 26.90625 -1.421875 \nQ 22.3125 -1.421875 17.546875 -0.640625 \nQ 12.796875 0.140625 7.71875 1.703125 \nL 7.71875 11.625 \nQ 12.109375 9.234375 16.796875 8.0625 \nQ 21.484375 6.890625 26.703125 6.890625 \nQ 35.15625 6.890625 40.078125 11.328125 \nQ 45.015625 15.765625 45.015625 23.390625 \nQ 45.015625 31 40.078125 35.4375 \nQ 35.15625 39.890625 26.703125 39.890625 \nQ 22.75 39.890625 18.8125 39.015625 \nQ 14.890625 38.140625 10.796875 36.28125 \nz\n\" id=\"DejaVuSans-53\"/>\n      </defs>\n      <g transform=\"translate(89.084375 351.757656)scale(0.1 -0.1)\">\n       <use xlink:href=\"#DejaVuSans-53\"/>\n      </g>\n     </g>\n    </g>\n    <g id=\"xtick_4\">\n     <g id=\"line2d_4\">\n      <g>\n       <use style=\"stroke:#000000;stroke-width:0.8;\" x=\"114.585625\" xlink:href=\"#m950002e65e\" y=\"337.159219\"/>\n      </g>\n     </g>\n     <g id=\"text_4\">\n      <!-- 7 -->\n      <defs>\n       <path d=\"M 8.203125 72.90625 \nL 55.078125 72.90625 \nL 55.078125 68.703125 \nL 28.609375 0 \nL 18.3125 0 \nL 43.21875 64.59375 \nL 8.203125 64.59375 \nz\n\" id=\"DejaVuSans-55\"/>\n      </defs>\n      <g transform=\"translate(111.404375 351.757656)scale(0.1 -0.1)\">\n       <use xlink:href=\"#DejaVuSans-55\"/>\n      </g>\n     </g>\n    </g>\n    <g id=\"xtick_5\">\n     <g id=\"line2d_5\">\n      <g>\n       <use style=\"stroke:#000000;stroke-width:0.8;\" x=\"136.905625\" xlink:href=\"#m950002e65e\" y=\"337.159219\"/>\n      </g>\n     </g>\n     <g id=\"text_5\">\n      <!-- 9 -->\n      <defs>\n       <path d=\"M 10.984375 1.515625 \nL 10.984375 10.5 \nQ 14.703125 8.734375 18.5 7.8125 \nQ 22.3125 6.890625 25.984375 6.890625 \nQ 35.75 6.890625 40.890625 13.453125 \nQ 46.046875 20.015625 46.78125 33.40625 \nQ 43.953125 29.203125 39.59375 26.953125 \nQ 35.25 24.703125 29.984375 24.703125 \nQ 19.046875 24.703125 12.671875 31.3125 \nQ 6.296875 37.9375 6.296875 49.421875 \nQ 6.296875 60.640625 12.9375 67.421875 \nQ 19.578125 74.21875 30.609375 74.21875 \nQ 43.265625 74.21875 49.921875 64.515625 \nQ 56.59375 54.828125 56.59375 36.375 \nQ 56.59375 19.140625 48.40625 8.859375 \nQ 40.234375 -1.421875 26.421875 -1.421875 \nQ 22.703125 -1.421875 18.890625 -0.6875 \nQ 15.09375 0.046875 10.984375 1.515625 \nz\nM 30.609375 32.421875 \nQ 37.25 32.421875 41.125 36.953125 \nQ 45.015625 41.5 45.015625 49.421875 \nQ 45.015625 57.28125 41.125 61.84375 \nQ 37.25 66.40625 30.609375 66.40625 \nQ 23.96875 66.40625 20.09375 61.84375 \nQ 16.21875 57.28125 16.21875 49.421875 \nQ 16.21875 41.5 20.09375 36.953125 \nQ 23.96875 32.421875 30.609375 32.421875 \nz\n\" id=\"DejaVuSans-57\"/>\n      </defs>\n      <g transform=\"translate(133.724375 351.757656)scale(0.1 -0.1)\">\n       <use xlink:href=\"#DejaVuSans-57\"/>\n      </g>\n     </g>\n    </g>\n    <g id=\"xtick_6\">\n     <g id=\"line2d_6\">\n      <g>\n       <use style=\"stroke:#000000;stroke-width:0.8;\" x=\"159.225625\" xlink:href=\"#m950002e65e\" y=\"337.159219\"/>\n      </g>\n     </g>\n     <g id=\"text_6\">\n      <!-- 11 -->\n      <g transform=\"translate(152.863125 351.757656)scale(0.1 -0.1)\">\n       <use xlink:href=\"#DejaVuSans-49\"/>\n       <use x=\"63.623047\" xlink:href=\"#DejaVuSans-49\"/>\n      </g>\n     </g>\n    </g>\n    <g id=\"xtick_7\">\n     <g id=\"line2d_7\">\n      <g>\n       <use style=\"stroke:#000000;stroke-width:0.8;\" x=\"181.545625\" xlink:href=\"#m950002e65e\" y=\"337.159219\"/>\n      </g>\n     </g>\n     <g id=\"text_7\">\n      <!-- 13 -->\n      <g transform=\"translate(175.183125 351.757656)scale(0.1 -0.1)\">\n       <use xlink:href=\"#DejaVuSans-49\"/>\n       <use x=\"63.623047\" xlink:href=\"#DejaVuSans-51\"/>\n      </g>\n     </g>\n    </g>\n    <g id=\"xtick_8\">\n     <g id=\"line2d_8\">\n      <g>\n       <use style=\"stroke:#000000;stroke-width:0.8;\" x=\"203.865625\" xlink:href=\"#m950002e65e\" y=\"337.159219\"/>\n      </g>\n     </g>\n     <g id=\"text_8\">\n      <!-- 15 -->\n      <g transform=\"translate(197.503125 351.757656)scale(0.1 -0.1)\">\n       <use xlink:href=\"#DejaVuSans-49\"/>\n       <use x=\"63.623047\" xlink:href=\"#DejaVuSans-53\"/>\n      </g>\n     </g>\n    </g>\n    <g id=\"xtick_9\">\n     <g id=\"line2d_9\">\n      <g>\n       <use style=\"stroke:#000000;stroke-width:0.8;\" x=\"226.185625\" xlink:href=\"#m950002e65e\" y=\"337.159219\"/>\n      </g>\n     </g>\n     <g id=\"text_9\">\n      <!-- 17 -->\n      <g transform=\"translate(219.823125 351.757656)scale(0.1 -0.1)\">\n       <use xlink:href=\"#DejaVuSans-49\"/>\n       <use x=\"63.623047\" xlink:href=\"#DejaVuSans-55\"/>\n      </g>\n     </g>\n    </g>\n    <g id=\"xtick_10\">\n     <g id=\"line2d_10\">\n      <g>\n       <use style=\"stroke:#000000;stroke-width:0.8;\" x=\"248.505625\" xlink:href=\"#m950002e65e\" y=\"337.159219\"/>\n      </g>\n     </g>\n     <g id=\"text_10\">\n      <!-- 19 -->\n      <g transform=\"translate(242.143125 351.757656)scale(0.1 -0.1)\">\n       <use xlink:href=\"#DejaVuSans-49\"/>\n       <use x=\"63.623047\" xlink:href=\"#DejaVuSans-57\"/>\n      </g>\n     </g>\n    </g>\n    <g id=\"xtick_11\">\n     <g id=\"line2d_11\">\n      <g>\n       <use style=\"stroke:#000000;stroke-width:0.8;\" x=\"270.825625\" xlink:href=\"#m950002e65e\" y=\"337.159219\"/>\n      </g>\n     </g>\n     <g id=\"text_11\">\n      <!-- 21 -->\n      <defs>\n       <path d=\"M 19.1875 8.296875 \nL 53.609375 8.296875 \nL 53.609375 0 \nL 7.328125 0 \nL 7.328125 8.296875 \nQ 12.9375 14.109375 22.625 23.890625 \nQ 32.328125 33.6875 34.8125 36.53125 \nQ 39.546875 41.84375 41.421875 45.53125 \nQ 43.3125 49.21875 43.3125 52.78125 \nQ 43.3125 58.59375 39.234375 62.25 \nQ 35.15625 65.921875 28.609375 65.921875 \nQ 23.96875 65.921875 18.8125 64.3125 \nQ 13.671875 62.703125 7.8125 59.421875 \nL 7.8125 69.390625 \nQ 13.765625 71.78125 18.9375 73 \nQ 24.125 74.21875 28.421875 74.21875 \nQ 39.75 74.21875 46.484375 68.546875 \nQ 53.21875 62.890625 53.21875 53.421875 \nQ 53.21875 48.921875 51.53125 44.890625 \nQ 49.859375 40.875 45.40625 35.40625 \nQ 44.1875 33.984375 37.640625 27.21875 \nQ 31.109375 20.453125 19.1875 8.296875 \nz\n\" id=\"DejaVuSans-50\"/>\n      </defs>\n      <g transform=\"translate(264.463125 351.757656)scale(0.1 -0.1)\">\n       <use xlink:href=\"#DejaVuSans-50\"/>\n       <use x=\"63.623047\" xlink:href=\"#DejaVuSans-49\"/>\n      </g>\n     </g>\n    </g>\n    <g id=\"xtick_12\">\n     <g id=\"line2d_12\">\n      <g>\n       <use style=\"stroke:#000000;stroke-width:0.8;\" x=\"293.145625\" xlink:href=\"#m950002e65e\" y=\"337.159219\"/>\n      </g>\n     </g>\n     <g id=\"text_12\">\n      <!-- 23 -->\n      <g transform=\"translate(286.783125 351.757656)scale(0.1 -0.1)\">\n       <use xlink:href=\"#DejaVuSans-50\"/>\n       <use x=\"63.623047\" xlink:href=\"#DejaVuSans-51\"/>\n      </g>\n     </g>\n    </g>\n    <g id=\"xtick_13\">\n     <g id=\"line2d_13\">\n      <g>\n       <use style=\"stroke:#000000;stroke-width:0.8;\" x=\"315.465625\" xlink:href=\"#m950002e65e\" y=\"337.159219\"/>\n      </g>\n     </g>\n     <g id=\"text_13\">\n      <!-- 25 -->\n      <g transform=\"translate(309.103125 351.757656)scale(0.1 -0.1)\">\n       <use xlink:href=\"#DejaVuSans-50\"/>\n       <use x=\"63.623047\" xlink:href=\"#DejaVuSans-53\"/>\n      </g>\n     </g>\n    </g>\n    <g id=\"xtick_14\">\n     <g id=\"line2d_14\">\n      <g>\n       <use style=\"stroke:#000000;stroke-width:0.8;\" x=\"337.785625\" xlink:href=\"#m950002e65e\" y=\"337.159219\"/>\n      </g>\n     </g>\n     <g id=\"text_14\">\n      <!-- 27 -->\n      <g transform=\"translate(331.423125 351.757656)scale(0.1 -0.1)\">\n       <use xlink:href=\"#DejaVuSans-50\"/>\n       <use x=\"63.623047\" xlink:href=\"#DejaVuSans-55\"/>\n      </g>\n     </g>\n    </g>\n    <g id=\"xtick_15\">\n     <g id=\"line2d_15\">\n      <g>\n       <use style=\"stroke:#000000;stroke-width:0.8;\" x=\"360.105625\" xlink:href=\"#m950002e65e\" y=\"337.159219\"/>\n      </g>\n     </g>\n     <g id=\"text_15\">\n      <!-- 29 -->\n      <g transform=\"translate(353.743125 351.757656)scale(0.1 -0.1)\">\n       <use xlink:href=\"#DejaVuSans-50\"/>\n       <use x=\"63.623047\" xlink:href=\"#DejaVuSans-57\"/>\n      </g>\n     </g>\n    </g>\n    <g id=\"xtick_16\">\n     <g id=\"line2d_16\">\n      <g>\n       <use style=\"stroke:#000000;stroke-width:0.8;\" x=\"382.425625\" xlink:href=\"#m950002e65e\" y=\"337.159219\"/>\n      </g>\n     </g>\n     <g id=\"text_16\">\n      <!-- 31 -->\n      <g transform=\"translate(376.063125 351.757656)scale(0.1 -0.1)\">\n       <use xlink:href=\"#DejaVuSans-51\"/>\n       <use x=\"63.623047\" xlink:href=\"#DejaVuSans-49\"/>\n      </g>\n     </g>\n    </g>\n    <g id=\"xtick_17\">\n     <g id=\"line2d_17\">\n      <g>\n       <use style=\"stroke:#000000;stroke-width:0.8;\" x=\"404.745625\" xlink:href=\"#m950002e65e\" y=\"337.159219\"/>\n      </g>\n     </g>\n     <g id=\"text_17\">\n      <!-- 33 -->\n      <g transform=\"translate(398.383125 351.757656)scale(0.1 -0.1)\">\n       <use xlink:href=\"#DejaVuSans-51\"/>\n       <use x=\"63.623047\" xlink:href=\"#DejaVuSans-51\"/>\n      </g>\n     </g>\n    </g>\n    <g id=\"xtick_18\">\n     <g id=\"line2d_18\">\n      <g>\n       <use style=\"stroke:#000000;stroke-width:0.8;\" x=\"427.065625\" xlink:href=\"#m950002e65e\" y=\"337.159219\"/>\n      </g>\n     </g>\n     <g id=\"text_18\">\n      <!-- 35 -->\n      <g transform=\"translate(420.703125 351.757656)scale(0.1 -0.1)\">\n       <use xlink:href=\"#DejaVuSans-51\"/>\n       <use x=\"63.623047\" xlink:href=\"#DejaVuSans-53\"/>\n      </g>\n     </g>\n    </g>\n    <g id=\"xtick_19\">\n     <g id=\"line2d_19\">\n      <g>\n       <use style=\"stroke:#000000;stroke-width:0.8;\" x=\"449.385625\" xlink:href=\"#m950002e65e\" y=\"337.159219\"/>\n      </g>\n     </g>\n     <g id=\"text_19\">\n      <!-- 37 -->\n      <g transform=\"translate(443.023125 351.757656)scale(0.1 -0.1)\">\n       <use xlink:href=\"#DejaVuSans-51\"/>\n       <use x=\"63.623047\" xlink:href=\"#DejaVuSans-55\"/>\n      </g>\n     </g>\n    </g>\n    <g id=\"xtick_20\">\n     <g id=\"line2d_20\">\n      <g>\n       <use style=\"stroke:#000000;stroke-width:0.8;\" x=\"471.705625\" xlink:href=\"#m950002e65e\" y=\"337.159219\"/>\n      </g>\n     </g>\n     <g id=\"text_20\">\n      <!-- 39 -->\n      <g transform=\"translate(465.343125 351.757656)scale(0.1 -0.1)\">\n       <use xlink:href=\"#DejaVuSans-51\"/>\n       <use x=\"63.623047\" xlink:href=\"#DejaVuSans-57\"/>\n      </g>\n     </g>\n    </g>\n    <g id=\"xtick_21\">\n     <g id=\"line2d_21\">\n      <g>\n       <use style=\"stroke:#000000;stroke-width:0.8;\" x=\"494.025625\" xlink:href=\"#m950002e65e\" y=\"337.159219\"/>\n      </g>\n     </g>\n     <g id=\"text_21\">\n      <!-- 41 -->\n      <defs>\n       <path d=\"M 37.796875 64.3125 \nL 12.890625 25.390625 \nL 37.796875 25.390625 \nz\nM 35.203125 72.90625 \nL 47.609375 72.90625 \nL 47.609375 25.390625 \nL 58.015625 25.390625 \nL 58.015625 17.1875 \nL 47.609375 17.1875 \nL 47.609375 0 \nL 37.796875 0 \nL 37.796875 17.1875 \nL 4.890625 17.1875 \nL 4.890625 26.703125 \nz\n\" id=\"DejaVuSans-52\"/>\n      </defs>\n      <g transform=\"translate(487.663125 351.757656)scale(0.1 -0.1)\">\n       <use xlink:href=\"#DejaVuSans-52\"/>\n       <use x=\"63.623047\" xlink:href=\"#DejaVuSans-49\"/>\n      </g>\n     </g>\n    </g>\n    <g id=\"xtick_22\">\n     <g id=\"line2d_22\">\n      <g>\n       <use style=\"stroke:#000000;stroke-width:0.8;\" x=\"516.345625\" xlink:href=\"#m950002e65e\" y=\"337.159219\"/>\n      </g>\n     </g>\n     <g id=\"text_22\">\n      <!-- 43 -->\n      <g transform=\"translate(509.983125 351.757656)scale(0.1 -0.1)\">\n       <use xlink:href=\"#DejaVuSans-52\"/>\n       <use x=\"63.623047\" xlink:href=\"#DejaVuSans-51\"/>\n      </g>\n     </g>\n    </g>\n    <g id=\"xtick_23\">\n     <g id=\"line2d_23\">\n      <g>\n       <use style=\"stroke:#000000;stroke-width:0.8;\" x=\"538.665625\" xlink:href=\"#m950002e65e\" y=\"337.159219\"/>\n      </g>\n     </g>\n     <g id=\"text_23\">\n      <!-- 45 -->\n      <g transform=\"translate(532.303125 351.757656)scale(0.1 -0.1)\">\n       <use xlink:href=\"#DejaVuSans-52\"/>\n       <use x=\"63.623047\" xlink:href=\"#DejaVuSans-53\"/>\n      </g>\n     </g>\n    </g>\n    <g id=\"xtick_24\">\n     <g id=\"line2d_24\">\n      <g>\n       <use style=\"stroke:#000000;stroke-width:0.8;\" x=\"560.985625\" xlink:href=\"#m950002e65e\" y=\"337.159219\"/>\n      </g>\n     </g>\n     <g id=\"text_24\">\n      <!-- 47 -->\n      <g transform=\"translate(554.623125 351.757656)scale(0.1 -0.1)\">\n       <use xlink:href=\"#DejaVuSans-52\"/>\n       <use x=\"63.623047\" xlink:href=\"#DejaVuSans-55\"/>\n      </g>\n     </g>\n    </g>\n    <g id=\"xtick_25\">\n     <g id=\"line2d_25\">\n      <g>\n       <use style=\"stroke:#000000;stroke-width:0.8;\" x=\"583.305625\" xlink:href=\"#m950002e65e\" y=\"337.159219\"/>\n      </g>\n     </g>\n     <g id=\"text_25\">\n      <!-- 49 -->\n      <g transform=\"translate(576.943125 351.757656)scale(0.1 -0.1)\">\n       <use xlink:href=\"#DejaVuSans-52\"/>\n       <use x=\"63.623047\" xlink:href=\"#DejaVuSans-57\"/>\n      </g>\n     </g>\n    </g>\n   </g>\n   <g id=\"matplotlib.axis_2\">\n    <g id=\"ytick_1\">\n     <g id=\"line2d_26\">\n      <defs>\n       <path d=\"M 0 0 \nL -3.5 0 \n\" id=\"ma4d0648424\" style=\"stroke:#000000;stroke-width:0.8;\"/>\n      </defs>\n      <g>\n       <use style=\"stroke:#000000;stroke-width:0.8;\" x=\"36.465625\" xlink:href=\"#ma4d0648424\" y=\"337.159219\"/>\n      </g>\n     </g>\n     <g id=\"text_26\">\n      <!-- 0.78 -->\n      <defs>\n       <path d=\"M 31.78125 66.40625 \nQ 24.171875 66.40625 20.328125 58.90625 \nQ 16.5 51.421875 16.5 36.375 \nQ 16.5 21.390625 20.328125 13.890625 \nQ 24.171875 6.390625 31.78125 6.390625 \nQ 39.453125 6.390625 43.28125 13.890625 \nQ 47.125 21.390625 47.125 36.375 \nQ 47.125 51.421875 43.28125 58.90625 \nQ 39.453125 66.40625 31.78125 66.40625 \nz\nM 31.78125 74.21875 \nQ 44.046875 74.21875 50.515625 64.515625 \nQ 56.984375 54.828125 56.984375 36.375 \nQ 56.984375 17.96875 50.515625 8.265625 \nQ 44.046875 -1.421875 31.78125 -1.421875 \nQ 19.53125 -1.421875 13.0625 8.265625 \nQ 6.59375 17.96875 6.59375 36.375 \nQ 6.59375 54.828125 13.0625 64.515625 \nQ 19.53125 74.21875 31.78125 74.21875 \nz\n\" id=\"DejaVuSans-48\"/>\n       <path d=\"M 10.6875 12.40625 \nL 21 12.40625 \nL 21 0 \nL 10.6875 0 \nz\n\" id=\"DejaVuSans-46\"/>\n       <path d=\"M 31.78125 34.625 \nQ 24.75 34.625 20.71875 30.859375 \nQ 16.703125 27.09375 16.703125 20.515625 \nQ 16.703125 13.921875 20.71875 10.15625 \nQ 24.75 6.390625 31.78125 6.390625 \nQ 38.8125 6.390625 42.859375 10.171875 \nQ 46.921875 13.96875 46.921875 20.515625 \nQ 46.921875 27.09375 42.890625 30.859375 \nQ 38.875 34.625 31.78125 34.625 \nz\nM 21.921875 38.8125 \nQ 15.578125 40.375 12.03125 44.71875 \nQ 8.5 49.078125 8.5 55.328125 \nQ 8.5 64.0625 14.71875 69.140625 \nQ 20.953125 74.21875 31.78125 74.21875 \nQ 42.671875 74.21875 48.875 69.140625 \nQ 55.078125 64.0625 55.078125 55.328125 \nQ 55.078125 49.078125 51.53125 44.71875 \nQ 48 40.375 41.703125 38.8125 \nQ 48.828125 37.15625 52.796875 32.3125 \nQ 56.78125 27.484375 56.78125 20.515625 \nQ 56.78125 9.90625 50.3125 4.234375 \nQ 43.84375 -1.421875 31.78125 -1.421875 \nQ 19.734375 -1.421875 13.25 4.234375 \nQ 6.78125 9.90625 6.78125 20.515625 \nQ 6.78125 27.484375 10.78125 32.3125 \nQ 14.796875 37.15625 21.921875 38.8125 \nz\nM 18.3125 54.390625 \nQ 18.3125 48.734375 21.84375 45.5625 \nQ 25.390625 42.390625 31.78125 42.390625 \nQ 38.140625 42.390625 41.71875 45.5625 \nQ 45.3125 48.734375 45.3125 54.390625 \nQ 45.3125 60.0625 41.71875 63.234375 \nQ 38.140625 66.40625 31.78125 66.40625 \nQ 25.390625 66.40625 21.84375 63.234375 \nQ 18.3125 60.0625 18.3125 54.390625 \nz\n\" id=\"DejaVuSans-56\"/>\n      </defs>\n      <g transform=\"translate(7.2 340.958438)scale(0.1 -0.1)\">\n       <use xlink:href=\"#DejaVuSans-48\"/>\n       <use x=\"63.623047\" xlink:href=\"#DejaVuSans-46\"/>\n       <use x=\"95.410156\" xlink:href=\"#DejaVuSans-55\"/>\n       <use x=\"159.033203\" xlink:href=\"#DejaVuSans-56\"/>\n      </g>\n     </g>\n    </g>\n    <g id=\"ytick_2\">\n     <g id=\"line2d_27\">\n      <g>\n       <use style=\"stroke:#000000;stroke-width:0.8;\" x=\"36.465625\" xlink:href=\"#ma4d0648424\" y=\"271.927219\"/>\n      </g>\n     </g>\n     <g id=\"text_27\">\n      <!-- 0.79 -->\n      <g transform=\"translate(7.2 275.726438)scale(0.1 -0.1)\">\n       <use xlink:href=\"#DejaVuSans-48\"/>\n       <use x=\"63.623047\" xlink:href=\"#DejaVuSans-46\"/>\n       <use x=\"95.410156\" xlink:href=\"#DejaVuSans-55\"/>\n       <use x=\"159.033203\" xlink:href=\"#DejaVuSans-57\"/>\n      </g>\n     </g>\n    </g>\n    <g id=\"ytick_3\">\n     <g id=\"line2d_28\">\n      <g>\n       <use style=\"stroke:#000000;stroke-width:0.8;\" x=\"36.465625\" xlink:href=\"#ma4d0648424\" y=\"206.695219\"/>\n      </g>\n     </g>\n     <g id=\"text_28\">\n      <!-- 0.80 -->\n      <g transform=\"translate(7.2 210.494437)scale(0.1 -0.1)\">\n       <use xlink:href=\"#DejaVuSans-48\"/>\n       <use x=\"63.623047\" xlink:href=\"#DejaVuSans-46\"/>\n       <use x=\"95.410156\" xlink:href=\"#DejaVuSans-56\"/>\n       <use x=\"159.033203\" xlink:href=\"#DejaVuSans-48\"/>\n      </g>\n     </g>\n    </g>\n    <g id=\"ytick_4\">\n     <g id=\"line2d_29\">\n      <g>\n       <use style=\"stroke:#000000;stroke-width:0.8;\" x=\"36.465625\" xlink:href=\"#ma4d0648424\" y=\"141.463219\"/>\n      </g>\n     </g>\n     <g id=\"text_29\">\n      <!-- 0.81 -->\n      <g transform=\"translate(7.2 145.262437)scale(0.1 -0.1)\">\n       <use xlink:href=\"#DejaVuSans-48\"/>\n       <use x=\"63.623047\" xlink:href=\"#DejaVuSans-46\"/>\n       <use x=\"95.410156\" xlink:href=\"#DejaVuSans-56\"/>\n       <use x=\"159.033203\" xlink:href=\"#DejaVuSans-49\"/>\n      </g>\n     </g>\n    </g>\n    <g id=\"ytick_5\">\n     <g id=\"line2d_30\">\n      <g>\n       <use style=\"stroke:#000000;stroke-width:0.8;\" x=\"36.465625\" xlink:href=\"#ma4d0648424\" y=\"76.231219\"/>\n      </g>\n     </g>\n     <g id=\"text_30\">\n      <!-- 0.82 -->\n      <g transform=\"translate(7.2 80.030437)scale(0.1 -0.1)\">\n       <use xlink:href=\"#DejaVuSans-48\"/>\n       <use x=\"63.623047\" xlink:href=\"#DejaVuSans-46\"/>\n       <use x=\"95.410156\" xlink:href=\"#DejaVuSans-56\"/>\n       <use x=\"159.033203\" xlink:href=\"#DejaVuSans-50\"/>\n      </g>\n     </g>\n    </g>\n    <g id=\"ytick_6\">\n     <g id=\"line2d_31\">\n      <g>\n       <use style=\"stroke:#000000;stroke-width:0.8;\" x=\"36.465625\" xlink:href=\"#ma4d0648424\" y=\"10.999219\"/>\n      </g>\n     </g>\n     <g id=\"text_31\">\n      <!-- 0.83 -->\n      <g transform=\"translate(7.2 14.798437)scale(0.1 -0.1)\">\n       <use xlink:href=\"#DejaVuSans-48\"/>\n       <use x=\"63.623047\" xlink:href=\"#DejaVuSans-46\"/>\n       <use x=\"95.410156\" xlink:href=\"#DejaVuSans-56\"/>\n       <use x=\"159.033203\" xlink:href=\"#DejaVuSans-51\"/>\n      </g>\n     </g>\n    </g>\n   </g>\n   <g id=\"patch_28\">\n    <path d=\"M 36.465625 337.159219 \nL 36.465625 10.999219 \n\" style=\"fill:none;stroke:#000000;stroke-linecap:square;stroke-linejoin:miter;stroke-width:0.8;\"/>\n   </g>\n   <g id=\"patch_29\">\n    <path d=\"M 594.465625 337.159219 \nL 594.465625 10.999219 \n\" style=\"fill:none;stroke:#000000;stroke-linecap:square;stroke-linejoin:miter;stroke-width:0.8;\"/>\n   </g>\n   <g id=\"patch_30\">\n    <path d=\"M 36.465625 337.159219 \nL 594.465625 337.159219 \n\" style=\"fill:none;stroke:#000000;stroke-linecap:square;stroke-linejoin:miter;stroke-width:0.8;\"/>\n   </g>\n   <g id=\"patch_31\">\n    <path d=\"M 36.465625 10.999219 \nL 594.465625 10.999219 \n\" style=\"fill:none;stroke:#000000;stroke-linecap:square;stroke-linejoin:miter;stroke-width:0.8;\"/>\n   </g>\n  </g>\n </g>\n <defs>\n  <clipPath id=\"p8fc6677094\">\n   <rect height=\"326.16\" width=\"558\" x=\"36.465625\" y=\"10.999219\"/>\n  </clipPath>\n </defs>\n</svg>\n",
      "image/png": "[encoded data removed]"
     },
     "metadata": {
      "needs_background": "light"
     }
    }
   ],
   "source": [
    "# try scaling up neighbors\n",
    "knn_scores = dict()\n",
    "for k in range (1,50,2):\n",
    "    knn = KNeighborsClassifier (n_neighbors = k)\n",
    "    scores = cross_val_score (knn, train[columns], train['survived'], cv=10)\n",
    "    accuracy = scores.mean()\n",
    "    knn_scores[k] = accuracy\n",
    "\n",
    "pd.Series(knn_scores).plot.bar(figsize=(10,6), ylim=(0.78,0.83), color=list('rgbkymc'), rot=0)\n",
    "plt.show()"
   ]
  },
  {
   "cell_type": "code",
   "execution_count": 14,
   "metadata": {
    "tags": []
   },
   "outputs": [
    {
     "output_type": "stream",
     "name": "stdout",
     "text": "0.8227340823970037\n"
    }
   ],
   "source": [
    "\"\"\"\n",
    "    Best model\n",
    "\"\"\"\n",
    "from sklearn.neighbors import KNeighborsClassifier\n",
    "knn = KNeighborsClassifier (n_neighbors = 31)\n",
    "scores = cross_val_score (knn, train[columns], train['survived'], cv=10)\n",
    "accuracy = scores.mean()\n",
    "print (accuracy)"
   ]
  },
  {
   "cell_type": "code",
   "execution_count": 16,
   "metadata": {},
   "outputs": [],
   "source": [
    "# Now train on the whole training set and predict the test results\n",
    "knn.fit (train[columns], train[target])\n",
    "predictions = knn.predict (test[columns])"
   ]
  },
  {
   "cell_type": "code",
   "execution_count": 13,
   "metadata": {
    "tags": []
   },
   "outputs": [
    {
     "output_type": "stream",
     "name": "stdout",
     "text": "0.8182397003745319\n"
    }
   ],
   "source": [
    "# Try a grid search\n",
    "from sklearn.model_selection import GridSearchCV\n",
    "hyperparameters = {\n",
    "    \"n_neighbors\": range(1,20,2),\n",
    "    \"weights\": [\"distance\", \"uniform\"],\n",
    "    \"algorithm\": ['brute'],\n",
    "    \"p\": [1,2]\n",
    "}\n",
    "knn = KNeighborsClassifier ()\n",
    "grid = GridSearchCV(knn,param_grid=hyperparameters,cv=10)\n",
    "grid.fit (train[columns], train['survived'])\n",
    "best_params = grid.best_params_\n",
    "best_score = grid.best_score_\n",
    "print (best_score)"
   ]
  },
  {
   "cell_type": "code",
   "execution_count": null,
   "metadata": {},
   "outputs": [],
   "source": [
    "# Now train on the whole training set and predict the test results\n",
    "rf_model.fit (train[columns_reduced], train[target])\n",
    "predictions = rf_model.predict (test[columns_reduced])"
   ]
  },
  {
   "cell_type": "code",
   "execution_count": 17,
   "metadata": {},
   "outputs": [],
   "source": [
    "# Create the Kaggle submission file\n",
    "kg_df = pd.DataFrame()\n",
    "kg_df['PassengerId'] = test['passengerid']\n",
    "kg_df['Survived'] = predictions\n",
    "kg_df.to_csv ('submission.csv', index=False)"
   ]
  },
  {
   "cell_type": "code",
   "execution_count": null,
   "metadata": {},
   "outputs": [],
   "source": []
  }
 ],
 "metadata": {
  "language_info": {
   "codemirror_mode": {
    "name": "ipython",
    "version": 3
   },
   "file_extension": ".py",
   "mimetype": "text/x-python",
   "name": "python",
   "nbconvert_exporter": "python",
   "pygments_lexer": "ipython3",
   "version": "3.7.6-final"
  },
  "orig_nbformat": 2,
  "kernelspec": {
   "name": "python37664bitbaseconda9fb940f50840471893c5bf5855327d0e",
   "display_name": "Python 3.7.6 64-bit ('base': conda)"
  }
 },
 "nbformat": 4,
 "nbformat_minor": 2
}