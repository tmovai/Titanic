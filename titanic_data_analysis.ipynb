{
 "cells": [
  {
   "cell_type": "code",
   "execution_count": 1,
   "metadata": {
    "tags": []
   },
   "outputs": [],
   "source": [
    "import pandas as pd\n",
    "import numpy as np\n",
    "import matplotlib.pyplot as plt\n",
    "import math\n",
    "\n",
    "train = pd.read_csv ('data_titanic/titanic_train_master.csv')\n",
    "test = pd.read_csv ('data_titanic/titanic_test_master.csv')\n",
    "\n",
    "train.columns = map (str.lower, train.columns)\n",
    "test.columns = map (str.lower, test.columns)"
   ]
  },
  {
   "cell_type": "code",
   "execution_count": 2,
   "metadata": {
    "tags": []
   },
   "outputs": [
    {
     "output_type": "stream",
     "name": "stdout",
     "text": "<class 'pandas.core.frame.DataFrame'>\nRangeIndex: 891 entries, 0 to 890\nData columns (total 12 columns):\n #   Column       Non-Null Count  Dtype  \n---  ------       --------------  -----  \n 0   passengerid  891 non-null    int64  \n 1   survived     891 non-null    int64  \n 2   pclass       891 non-null    int64  \n 3   name         891 non-null    object \n 4   sex          891 non-null    object \n 5   age          714 non-null    float64\n 6   sibsp        891 non-null    int64  \n 7   parch        891 non-null    int64  \n 8   ticket       891 non-null    object \n 9   fare         891 non-null    float64\n 10  cabin        204 non-null    object \n 11  embarked     889 non-null    object \ndtypes: float64(2), int64(5), object(5)\nmemory usage: 83.7+ KB\n"
    }
   ],
   "source": [
    "# columns with missing values\n",
    "train.info()"
   ]
  },
  {
   "cell_type": "code",
   "execution_count": 3,
   "metadata": {},
   "outputs": [],
   "source": [
    "\n",
    "passengerid = train['passengerid']\n",
    "survived = train['survived']\n",
    "pclass = train['pclass']\n",
    "name = train['name']\n",
    "sex = train['sex']\n",
    "age = train['age']\n",
    "sibsp = train['sibsp']\n",
    "parch = train['parch']\n",
    "ticket = train['ticket']\n",
    "fare = train['fare']\n",
    "embarked = train['embarked']"
   ]
  },
  {
   "cell_type": "code",
   "execution_count": 4,
   "metadata": {},
   "outputs": [],
   "source": [
    "# create dummies\n",
    "def create_dummies (df, column_names):\n",
    "    for col in column_names:\n",
    "        dummies = pd.get_dummies (df[col], prefix=col)\n",
    "        df = pd.concat([df, dummies], axis=1)\n",
    "    return df"
   ]
  },
  {
   "cell_type": "code",
   "execution_count": 5,
   "metadata": {},
   "outputs": [
    {
     "output_type": "execute_result",
     "data": {
      "text/plain": "3    491\n1    216\n2    184\nName: pclass, dtype: int64"
     },
     "metadata": {},
     "execution_count": 5
    }
   ],
   "source": [
    "# pclass\n",
    "pclass.value_counts()"
   ]
  },
  {
   "cell_type": "code",
   "execution_count": 5,
   "metadata": {},
   "outputs": [
    {
     "output_type": "execute_result",
     "data": {
      "text/plain": "male      577\nfemale    314\nName: sex, dtype: int64"
     },
     "metadata": {},
     "execution_count": 5
    }
   ],
   "source": [
    "# sex\n",
    "sex.value_counts()"
   ]
  },
  {
   "cell_type": "code",
   "execution_count": 27,
   "metadata": {},
   "outputs": [
    {
     "output_type": "execute_result",
     "data": {
      "text/plain": "False    714\nTrue     177\nName: age, dtype: int64"
     },
     "metadata": {},
     "execution_count": 27
    }
   ],
   "source": [
    "age.isna().value_counts()"
   ]
  },
  {
   "cell_type": "code",
   "execution_count": 22,
   "metadata": {
    "tags": []
   },
   "outputs": [],
   "source": [
    "# age has nulls. Write out records and view\n",
    "train[age.isna()][['name', 'age']].to_csv ('null_ages.csv', index=False)"
   ]
  },
  {
   "cell_type": "code",
   "execution_count": 36,
   "metadata": {},
   "outputs": [
    {
     "output_type": "execute_result",
     "data": {
      "text/plain": "Mr          517\nMiss        182\nMrs         125\nMaster       40\nDr            7\nRev           6\nCol           2\nMlle          2\nMajor         2\nDon           1\nJonkheer      1\nMme           1\nCapt          1\nSir           1\nLady          1\nMs            1\nCountess      1\nName: name, dtype: int64"
     },
     "metadata": {},
     "execution_count": 36
    }
   ],
   "source": [
    "# let's work on name and then come back to age. extract titles from name\n",
    "extracted_titles = name.str.extract (' ([A-Za-z]+)\\.', expand=False)\n",
    "extracted_titles.value_counts()"
   ]
  },
  {
   "cell_type": "code",
   "execution_count": 38,
   "metadata": {},
   "outputs": [],
   "source": [
    "# map the titles\n",
    "titles = {\n",
    "    \"Mr\" :         \"mr\",\n",
    "    \"Mme\":         \"mrs\",\n",
    "    \"Ms\":          \"mrs\",\n",
    "    \"Mrs\" :        \"mrs\",\n",
    "    \"Master\" :     \"master\",\n",
    "    \"Mlle\":        \"miss\",\n",
    "    \"Miss\" :       \"miss\",\n",
    "    \"Capt\":        \"officer\",\n",
    "    \"Col\":         \"officer\",\n",
    "    \"Major\":       \"officer\",\n",
    "    \"Dr\":          \"officer\",\n",
    "    \"Rev\":         \"officer\",\n",
    "    \"Jonkheer\":    \"royalty\",\n",
    "    \"Don\":         \"royalty\",\n",
    "    \"Sir\" :        \"royalty\",\n",
    "    \"Countess\":    \"royalty\",\n",
    "    \"Dona\":        \"royalty\",\n",
    "    \"Lady\" :       \"royalty\"\n",
    "}\n",
    "train['title'] = extracted_titles.map(titles)\n",
    "titles = train['title']"
   ]
  },
  {
   "cell_type": "code",
   "execution_count": null,
   "metadata": {},
   "outputs": [],
   "source": [
    "# if title_master is true and age is null set age to 1. Then group ages.\n",
    "\n"
   ]
  },
  {
   "cell_type": "code",
   "execution_count": 5,
   "metadata": {},
   "outputs": [
    {
     "output_type": "execute_result",
     "data": {
      "text/plain": "0    608\n1    209\n2     28\n4     18\n3     16\n8      7\n5      5\nName: sibsp, dtype: int64"
     },
     "metadata": {},
     "execution_count": 5
    }
   ],
   "source": [
    "# sibsp\n",
    "train['sibsp'].value_counts()"
   ]
  },
  {
   "cell_type": "code",
   "execution_count": 6,
   "metadata": {},
   "outputs": [
    {
     "output_type": "execute_result",
     "data": {
      "text/plain": "0    678\n1    118\n2     80\n5      5\n3      5\n4      4\n6      1\nName: parch, dtype: int64"
     },
     "metadata": {},
     "execution_count": 6
    }
   ],
   "source": [
    "# parch\n",
    "train['parch'].value_counts()"
   ]
  },
  {
   "cell_type": "code",
   "execution_count": 7,
   "metadata": {},
   "outputs": [
    {
     "output_type": "execute_result",
     "data": {
      "text/plain": "S    644\nC    168\nQ     77\nName: embarked, dtype: int64"
     },
     "metadata": {},
     "execution_count": 7
    }
   ],
   "source": [
    "# embarked. It has empty values. Let's fill with U for unknown\n",
    "train['embarked'].value_counts()"
   ]
  },
  {
   "cell_type": "code",
   "execution_count": null,
   "metadata": {},
   "outputs": [],
   "source": []
  }
 ],
 "metadata": {
  "language_info": {
   "codemirror_mode": {
    "name": "ipython",
    "version": 3
   },
   "file_extension": ".py",
   "mimetype": "text/x-python",
   "name": "python",
   "nbconvert_exporter": "python",
   "pygments_lexer": "ipython3",
   "version": "3.7.6-final"
  },
  "orig_nbformat": 2,
  "kernelspec": {
   "name": "python3",
   "display_name": "Python 3"
  }
 },
 "nbformat": 4,
 "nbformat_minor": 2
}