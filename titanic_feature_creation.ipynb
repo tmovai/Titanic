{
 "cells": [
  {
   "cell_type": "code",
   "execution_count": 1,
   "metadata": {},
   "outputs": [],
   "source": [
    "import pandas as pd\n",
    "import numpy as np\n",
    "import matplotlib.pyplot as plt\n",
    "\n",
    "train = pd.read_csv ('titanic_train_master.csv')\n",
    "test = pd.read_csv ('titanic_test_master.csv')"
   ]
  },
  {
   "cell_type": "code",
   "execution_count": 2,
   "metadata": {},
   "outputs": [],
   "source": [
    "# lower case all column names\n",
    "train.columns = map (str.lower, train.columns)\n",
    "test.columns = map (str.lower, test.columns)"
   ]
  },
  {
   "cell_type": "code",
   "execution_count": 3,
   "metadata": {},
   "outputs": [],
   "source": [
    "# dummies function to create binary columns for groups\n",
    "def create_dummies (df, column_names):\n",
    "    for col in column_names:\n",
    "        dummies = pd.get_dummies (df[col], prefix=col)\n",
    "        df = pd.concat([df, dummies], axis=1)\n",
    "    return df"
   ]
  },
  {
   "cell_type": "code",
   "execution_count": 4,
   "metadata": {},
   "outputs": [],
   "source": [
    "# PCLASS\n",
    "train = create_dummies (train, ['pclass'])\n",
    "test = create_dummies (test, ['pclass'])"
   ]
  },
  {
   "cell_type": "code",
   "execution_count": 5,
   "metadata": {},
   "outputs": [],
   "source": [
    "# extract titles from name\n",
    "titles = {\n",
    "    \"Mr\" :         \"mr\",\n",
    "    \"Mme\":         \"mme\",\n",
    "    \"Ms\":          \"mme\",\n",
    "    \"Mrs\" :        \"mrs\",\n",
    "    \"Master\" :     \"master\",\n",
    "    \"Mlle\":        \"miss\",\n",
    "    \"Miss\" :       \"miss\",\n",
    "    \"Capt\":        \"officer\",\n",
    "    \"Col\":         \"officer\",\n",
    "    \"Major\":       \"officer\",\n",
    "    \"Dr\":          \"officer\",\n",
    "    \"Rev\":         \"officer\",\n",
    "    \"Jonkheer\":    \"royalty_male\",\n",
    "    \"Don\":         \"royalty_male\",\n",
    "    \"Sir\" :        \"royalty_male\",\n",
    "    \"Countess\":    \"royalty_female\",\n",
    "    \"Dona\":        \"royalty_female\",\n",
    "    \"Lady\" :       \"royalty_female\"\n",
    "}\n",
    "extracted_titles = train['name'].str.extract (' ([A-Za-z]+)\\.', expand=False)\n",
    "train['title'] = extracted_titles.map(titles)\n",
    "extracted_titles = test['name'].str.extract (' ([A-Za-z]+)\\.', expand=False)\n",
    "test['title'] = extracted_titles.map(titles)\n",
    "\n",
    "# create dummies for titles\n",
    "train = create_dummies (train, ['title'])\n",
    "test = create_dummies (test, ['title'])"
   ]
  },
  {
   "cell_type": "code",
   "execution_count": 9,
   "metadata": {},
   "outputs": [
    {
     "output_type": "execute_result",
     "data": {
      "text/plain": "Index(['passengerid', 'pclass', 'name', 'sex', 'age', 'sibsp', 'parch',\n       'ticket', 'fare', 'cabin', 'embarked', 'pclass_1', 'pclass_2',\n       'pclass_3', 'title', 'title_master', 'title_miss', 'title_mme',\n       'title_mr', 'title_mrs', 'title_officer', 'title_royalty_female'],\n      dtype='object')"
     },
     "metadata": {},
     "execution_count": 9
    }
   ],
   "source": [
    "test.columns"
   ]
  },
  {
   "cell_type": "code",
   "execution_count": 10,
   "metadata": {},
   "outputs": [
    {
     "output_type": "execute_result",
     "data": {
      "text/plain": "Index(['passengerid', 'survived', 'pclass', 'name', 'sex', 'age', 'sibsp',\n       'parch', 'ticket', 'fare', 'cabin', 'embarked', 'pclass_1', 'pclass_2',\n       'pclass_3', 'title', 'title_master', 'title_miss', 'title_mme',\n       'title_mr', 'title_mrs', 'title_officer', 'title_royalty_female',\n       'title_royalty_male'],\n      dtype='object')"
     },
     "metadata": {},
     "execution_count": 10
    }
   ],
   "source": [
    "train.columns"
   ]
  },
  {
   "cell_type": "code",
   "execution_count": 6,
   "metadata": {},
   "outputs": [],
   "source": [
    "# need to add a royalty_male dummy column to test\n",
    "test['title_royalty_male'] = 0"
   ]
  },
  {
   "cell_type": "code",
   "execution_count": 12,
   "metadata": {},
   "outputs": [
    {
     "output_type": "execute_result",
     "data": {
      "text/plain": "Index(['passengerid', 'pclass', 'name', 'sex', 'age', 'sibsp', 'parch',\n       'ticket', 'fare', 'cabin', 'embarked', 'pclass_1', 'pclass_2',\n       'pclass_3', 'title', 'title_master', 'title_miss', 'title_mme',\n       'title_mr', 'title_mrs', 'title_officer', 'title_royalty_female',\n       'title_royalty_male'],\n      dtype='object')"
     },
     "metadata": {},
     "execution_count": 12
    }
   ],
   "source": [
    "test.columns"
   ]
  },
  {
   "cell_type": "code",
   "execution_count": 7,
   "metadata": {},
   "outputs": [],
   "source": [
    "# SEX\n",
    "train = create_dummies (train, ['sex'])\n",
    "test = create_dummies (test, ['sex'])"
   ]
  },
  {
   "cell_type": "code",
   "execution_count": 8,
   "metadata": {},
   "outputs": [],
   "source": [
    "# AGE\n",
    "# if title_master is true and age is null set age to 1. Then group ages. \n",
    "# Trying to save some rows\n",
    "def set_age (row):\n",
    "    if row['title_master'] & pd.isnull(row['age']):\n",
    "        return 1\n",
    "    else:\n",
    "        return row['age']\n",
    "\n",
    "train['age'] = train.apply (lambda row: set_age(row), axis=1)\n",
    "test['age'] = test.apply (lambda row: set_age(row), axis=1)\n",
    "\n",
    "# create age groups.\n",
    "def create_groups_dummies (df, col, cat_name, cut_points, label_names):\n",
    "    df[col] = df[col].fillna(-0.5)\n",
    "    df[cat_name] = pd.cut (df[col], cut_points, labels=label_names)\n",
    "    df = create_dummies (df, [cat_name])\n",
    "    return df\n",
    "\n",
    "age_cut_points = [-1, 0, 12, 18, 30, 60, 100]\n",
    "age_group_labels = ['missing', 'child', 'teenager', 'young_adult', 'adult', 'senior']\n",
    "\n",
    "train = create_groups_dummies (train, 'age', 'age_cat', age_cut_points, age_group_labels)\n",
    "test = create_groups_dummies (test, 'age', 'age_cat', age_cut_points, age_group_labels)"
   ]
  },
  {
   "cell_type": "code",
   "execution_count": 9,
   "metadata": {},
   "outputs": [],
   "source": [
    "# SIBSP\n",
    "# number of siblings / spouses aboard\n",
    "train = create_dummies (train, ['sibsp'])\n",
    "test = create_dummies (test, ['sibsp'])"
   ]
  },
  {
   "cell_type": "code",
   "execution_count": 10,
   "metadata": {},
   "outputs": [],
   "source": [
    "# PARCH \n",
    "# number of parents / children aboard\n",
    "train = create_dummies (train, ['parch'])\n",
    "test = create_dummies (test, ['parch'])"
   ]
  },
  {
   "cell_type": "code",
   "execution_count": 11,
   "metadata": {},
   "outputs": [],
   "source": [
    "# FARE\n",
    "fare_group_labels = ['missing', '0-12', '12-50', '50-100', '100+']\n",
    "fare_cut_points = [-1, 0, 12, 50, 100, 1000]\n",
    "train = create_groups_dummies (train, 'fare', 'fare_cat', fare_cut_points, fare_group_labels)\n",
    "test = create_groups_dummies (test, 'fare', 'fare_cat', fare_cut_points, fare_group_labels)"
   ]
  },
  {
   "cell_type": "code",
   "execution_count": 12,
   "metadata": {},
   "outputs": [],
   "source": [
    "# CABIN\n",
    "train['cabin_type'] = train['cabin'].str[0]\n",
    "train['cabin_type'] = train['cabin_type'].fillna('UNKNOWN')\n",
    "test['cabin_type'] = test['cabin'].str[0]\n",
    "test['cabin_type'] = test['cabin_type'].fillna('UNKNOWN')\n",
    "train = create_dummies (train, ['cabin_type'])\n",
    "test = create_dummies (test, ['cabin_type'])"
   ]
  },
  {
   "cell_type": "code",
   "execution_count": 13,
   "metadata": {},
   "outputs": [],
   "source": [
    "# EMBARKED \n",
    "# C = Cherbourg, Q = Queenstown, S = Southampton\n",
    "# embarked has some empties. Fill with U for unknown\n",
    "train['embarked'] = train['embarked'].fillna('U')\n",
    "test['embarked'] = test['embarked'].fillna('U')\n",
    "train = create_dummies (train, ['embarked'])\n",
    "test = create_dummies (test, ['embarked'])"
   ]
  },
  {
   "cell_type": "code",
   "execution_count": 14,
   "metadata": {},
   "outputs": [],
   "source": [
    "# lower case all column names\n",
    "train.columns = map (str.lower, train.columns)\n",
    "test.columns = map (str.lower, test.columns)"
   ]
  },
  {
   "cell_type": "code",
   "execution_count": 15,
   "metadata": {},
   "outputs": [],
   "source": [
    "# write out final files\n",
    "train.to_csv ('titanic_train_wrangled.csv', index=False)\n",
    "test.to_csv ('titanic_test_wrangled.csv', index=False)"
   ]
  },
  {
   "cell_type": "code",
   "execution_count": null,
   "metadata": {},
   "outputs": [],
   "source": []
  }
 ],
 "metadata": {
  "language_info": {
   "codemirror_mode": {
    "name": "ipython",
    "version": 3
   },
   "file_extension": ".py",
   "mimetype": "text/x-python",
   "name": "python",
   "nbconvert_exporter": "python",
   "pygments_lexer": "ipython3",
   "version": 3
  },
  "orig_nbformat": 2,
  "kernelspec": {
   "name": "python_defaultSpec_1594671522661",
   "display_name": "Python 3.7.6 64-bit ('base': conda)"
  }
 },
 "nbformat": 4,
 "nbformat_minor": 2
}